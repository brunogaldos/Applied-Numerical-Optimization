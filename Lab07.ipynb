{
 "cells": [
  {
   "cell_type": "markdown",
   "metadata": {},
   "source": [
    "<div>\n",
    "<img src=\"figures/svtLogo.png\"/>\n",
    "</div>  \n",
    "\n",
    "<center><h1>Mathematical Optimization for Engineers</h1></center>\n",
    "<center><h2>Lab 7 - Interior point method</h2></center>"
   ]
  },
  {
   "cell_type": "markdown",
   "metadata": {},
   "source": [
    "Let's consider the following linear optimization problem:\n",
    "\n",
    "\\begin{align*}\n",
    "\t\t\\min_{x_1,x_2} x_1 + x_2 \\\\\n",
    "\t\t\\mbox{s.t. } x_1 \\geq -1 \\\\\n",
    "\t\t\t\t\t\t\t\t x_2 \\geq -1 \\\\\n",
    "\\end{align*}\n",
    "\n",
    "<u>Task 1</u>: Sketch the feasible region for this problem and contour lines of the objective. Where is the optimal solution?"
   ]
  },
  {
   "cell_type": "code",
   "execution_count": 1,
   "metadata": {},
   "outputs": [
    {
     "data": {
      "image/png": "[encoded data removed]",
      "text/plain": [
       "<Figure size 432x288 with 1 Axes>"
      ]
     },
     "metadata": {
      "needs_background": "light"
     },
     "output_type": "display_data"
    }
   ],
   "source": [
    "import numpy as np\n",
    "import matplotlib.pyplot as plt\n",
    "\n",
    "# plot the feasible region\n",
    "d = np.linspace(-3,5,300)\n",
    "x,y = np.meshgrid(d,d)\n",
    "plt.imshow(((x>=-1) & (y>=-1)).astype(int) , \n",
    "                extent=(x.min(),x.max(),y.min(),y.max()),origin=\"lower\", cmap=\"Greys\", alpha = 0.3);\n",
    "\n",
    "\n",
    "# plot the lines defining the constraints\n",
    "x = np.linspace(-3, 5, 500)\n",
    "y = np.linspace(-3, 5, 500)\n",
    "\n",
    "xl = np.linspace(0, 4, 500)\n",
    "\n",
    "# Make plot\n",
    "plt.plot(-1*np.ones_like(y), y, label=r'$x1=-1$')\n",
    "plt.plot(x, -1*np.ones_like(x), label=r'$x2=-1$')\n",
    "plt.plot(0*np.ones_like(y), y, label=r'$x1=0$')\n",
    "plt.plot(x, 0*np.ones_like(x), label=r'$x2=0$')\n",
    "\n",
    "plt.plot(-1, -1, '-o', label=r'minimum')\n",
    "for i in range(2,5): \n",
    "    plt.plot(xl, i-xl, '--')\n",
    "plt.xlim(-3,5)\n",
    "plt.ylim(-3,5)\n",
    "plt.legend(bbox_to_anchor=(1.05, 1), loc=2, borderaxespad=0.)\n",
    "plt.xlabel(r'$x1$')\n",
    "plt.ylabel(r'$x2$')\n",
    "plt.show()"
   ]
  },
  {
   "cell_type": "markdown",
   "metadata": {},
   "source": [
    "<u>Task 2</u>: Set up the Lagrangian function and write down the KKT-conditions."
   ]
  },
  {
   "cell_type": "markdown",
   "metadata": {},
   "source": [
    "<details>\n",
    "Now we will set up the Lagrange function, $L (x_1, x_2, \\lambda_1, \\lambda_2)$. \n",
    "<br>\n",
    "<br>\n",
    "Since, we have two constraints, we need two Lagrange multipliers $\\lambda_1$ and $\\lambda_2$.\n",
    "<br>\n",
    "$$L (x_1, x_2, \\lambda_1, \\lambda_2) = x_1 + x_2 - \\lambda_1 (x_1 + 1) - \\lambda_2 (x_2 + 1)$$\n",
    "    \n",
    "\\begin{align}\n",
    "\\nabla_\\mathbf x L  =  \\left[\\begin{array}{c} 1-\\lambda_1 \\\\ 1-\\lambda_2 \\\\ \\end{array}\\right] &= \\left[\\begin{array}{c} 0  \\\\ 0  \\\\ \\end{array}\\right] \\\\\n",
    "x_1 + 1 & \\geq  0  \\\\\n",
    "x_2 + 1 & \\geq  0 \\\\\n",
    "\\lambda_1, \\lambda_2 & \\geq  0 \\\\\n",
    "\\lambda_1 \\left( x_1 + 1 \\right) & =  0 \\\\\n",
    "\\lambda_2 \\left( x_2 + 1 \\right) & =  0 \n",
    "\\end{align}\n",
    "    \n",
    "Note that even though our original problem is an LP, the system of KKT-equations is non-linear. This is because of the bi-linear terms from complementarity slackness.\n",
    "\n",
    "</details>"
   ]
  },
  {
   "cell_type": "markdown",
   "metadata": {},
   "source": [
    "<u>Task 3</u>: Transform the inequalities of the resulting nonlinear equation system into equalities by introducing slack variables."
   ]
  },
  {
   "cell_type": "markdown",
   "metadata": {},
   "source": [
    "<details>\n",
    "By introducing two slack variables $s_1 \\geq 0$ and $s_2 \\geq 0$, the inequalities, $x_1 \\geq -1$ and $x_2 \\geq -1$, can be transformed into equalities. \n",
    "<br>\n",
    "Thus, we define $s_1 = x_1 + 1$ and $s_2 = x_2 + 1$. Then, the KKT-conditions can be rewritten as:\n",
    "    \n",
    "\\begin{align}\n",
    "\\nabla_\\mathbf x L  =  \\left[\\begin{array}{c} 1-\\lambda_1 \\\\ 1-\\lambda_2 \\\\ \\end{array}\\right] &= \\left[\\begin{array}{c} 0  \\\\ 0  \\\\ \\end{array}\\right] \\\\\n",
    "x_1 + 1 - s_1 & =  0 \\\\\n",
    "x_2 + 1 - s_2 & =  0 \\\\\n",
    "\\qquad s_1, s_2 & \\geq  0 \\\\\n",
    "\\lambda_1, \\lambda_2 & \\geq  0 \\\\\n",
    "\\lambda_1 s_1 & =  0 \\\\\n",
    "\\lambda_2 s_2 & =  0 \n",
    "\\end{align}   \n",
    "    \n",
    "To be more precise we have changed the problem: \n",
    "   \n",
    "\n",
    "\\begin{align}\n",
    "\\nabla_\\mathbf x L  =  \\left[\\begin{array}{c} 1-\\lambda_3 \\\\ 1-\\lambda_4 \\\\ \\end{array}\\right] &= \\left[\\begin{array}{c} 0  \\\\ 0  \\\\ \\end{array}\\right] \\\\\n",
    "\\nabla_\\mathbf s L =  \\left[\\begin{array}{c} \\lambda_1-\\lambda_3 \\\\ \\lambda_2-\\lambda_4 \\\\ \\end{array}\\right] &= \\left[\\begin{array}{c} 0  \\\\ 0  \\\\ \\end{array}\\right] \\\\\n",
    "x_1 + 1 - s_1 & =  0 \\\\\n",
    "x_2 + 1 - s_2 & =  0 \\\\\n",
    "\\qquad s_1, s_2 & \\geq  0 \\\\\n",
    "\\lambda_1, \\lambda_2 & \\geq  0 \\\\\n",
    "\\lambda_1 s_1 & =  0 \\\\\n",
    "\\lambda_2 s_2 & =  0 \n",
    "\\end{align}\n",
    "    \n",
    "However, we omit the Lagarange multipliers $\\lambda_3$ and $\\lambda_4$ for the equality constraints, since the equation is trivial. \n",
    "    \n",
    "</details>"
   ]
  },
  {
   "cell_type": "markdown",
   "metadata": {},
   "source": [
    "The general idea of interior-point methods is to apply the Newton method (for root finding) to solve (approximated) KKT conditions."
   ]
  },
  {
   "cell_type": "markdown",
   "metadata": {},
   "source": [
    "<u>Task 4</u>: Change the complementarity constraints by adding a parameter $\\tau$ on the right hand side."
   ]
  },
  {
   "cell_type": "markdown",
   "metadata": {},
   "source": [
    "<details>\n",
    "When we apply Newton's method (for root finding) to the equations mentioned above, we see that convergence is very slow. The reason for this are the complementarity constraints. Thus, these equations are approximated by a positive parameter $\\tau >0$.\n",
    "\\begin{align}\n",
    "\t\t\\lambda_1 s_1 & =  \\tau \\label{complementary1b}\\\\\n",
    "\t\t\\lambda_2 s_2 & =  \\tau \\label{complementary2b}\n",
    "\\end{align}\n",
    "<br>    \n",
    "The feasible set of the complementarity constraints now looks like:\n",
    "<img src=\"figures/HU83.png\" width=\"400\">\n",
    "</details>"
   ]
  },
  {
   "cell_type": "markdown",
   "metadata": {},
   "source": [
    "<u>Task 5</u>: Solve the nonlinear equation system analytically."
   ]
  },
  {
   "cell_type": "markdown",
   "metadata": {},
   "source": [
    "<details>\n",
    "From stationarity, it follows that $\\lambda_1=1$ and $\\lambda_2=1$. \n",
    "<br>\n",
    "From the modified complementarity conditions , we know that $s_1= \\frac{\\tau}{\\lambda_1}$ and $s_1 = \\frac{\\tau}{\\lambda_2}$. \n",
    "<br>    \n",
    "From the equality constraints, we can calculate $x_1$ and $x_2$ as $x_1 = \\frac{\\tau}{\\lambda_1}-1$ and $x_2 = \\frac{\\tau}{\\lambda_2}-1$.\n",
    "</details>"
   ]
  },
  {
   "cell_type": "markdown",
   "metadata": {},
   "source": [
    "<u>Task 6</u>: Sketch the central path in the domain of $x_1$ and $x_2$ for different values of $\\tau$."
   ]
  },
  {
   "cell_type": "markdown",
   "metadata": {},
   "source": [
    "<details>\n",
    "For $\\tau \\rightarrow 0$, the solution moves to the solution of the original problem.\n",
    "<br> \n",
    "$x_1 = \\frac{\\tau}{\\lambda_1}-1$ and $x_2 = \\frac{\\tau}{\\lambda_2}-1$\n",
    "<br>\n",
    "$\\lambda_1=1$ and $\\lambda_2=1$    \n",
    "<img src=\"figures\\HU84.png\" width=\"400\">\n",
    "</details>"
   ]
  },
  {
   "cell_type": "markdown",
   "metadata": {},
   "source": [
    "<u>Task 7</u>: Sketch the feasible set of the complementarity constraints for different values of $\\tau$."
   ]
  },
  {
   "cell_type": "markdown",
   "metadata": {},
   "source": [
    "<details>\n",
    "For $\\tau \\rightarrow 0$, the solution moves to the left boundary of the feasible set.\n",
    "<img src=\"figures/HU85.png\" width=\"400\">    \n",
    "</details>"
   ]
  },
  {
   "cell_type": "markdown",
   "metadata": {},
   "source": [
    "<u>Task 8</u>: Write down the Newton step for solving the approximated KKT-conditions."
   ]
  },
  {
   "cell_type": "markdown",
   "metadata": {},
   "source": [
    "<details>\n",
    "<br>\n",
    "Typically, the system of equations is very complex or impossible to solve analytically. Thus, we want to solve it using Newton's method (for root finding).\n",
    "<br>\n",
    "<br>\n",
    "One step of Newton's method can be written as:\n",
    "$$\\mathbf x^{k+1} = \\mathbf x^k - \\frac{f(\\mathbf x^k)}{f'(\\mathbf x^k)} $$\n",
    "<br>\n",
    "$$\\implies \\delta \\mathbf x^k = - \\frac{f(\\mathbf x^k)}{f'(\\mathbf x^k)} $$\n",
    "<br>\n",
    "$$\\implies f'(\\mathbf x^k) \\, \\delta \\mathbf x^k = - f(\\mathbf x^k)$$\n",
    "    \n",
    "where, we solve for $\\delta \\mathbf x^k$ to move to the next iterate.<br>\n",
    "<br>\n",
    "If $||\\delta \\mathbf x_k|| \\lt \\epsilon$ for a small $\\epsilon$, i.e. two consecutive iterates are close enough, the Newton algorithm stops and returns $x_{k+1}$ as the root.\n",
    "<br>\n",
    "<br>\n",
    "Now, we want to apply the Newton step to our system. The variables, which we want to determine, are $x_1, x_2, \\lambda_1, \\lambda_2, s_1$ and $s_2$. \n",
    "<br>\n",
    "<br>\n",
    "We define:\n",
    "<br>\n",
    "$\\delta x_{1,k} = x_{1,k+1}-x_{1,k}$,\n",
    "<br>    \n",
    "$\\delta x_{2,k} = x_{2,k+1}-x_{2,k}$,\n",
    "<br>    \n",
    "$\\delta \\lambda_{1,k} = \\lambda_{1,k+1}-\\lambda_{1,k}$,\n",
    "<br>    \n",
    "$\\delta \\lambda_{2,k} = \\lambda_{2,k+1}-\\lambda_{2,k}$,\n",
    "<br>    \n",
    "$\\delta s_{1,k} = s_{1,k+1}-s_{1,k}$ and\n",
    "<br>    \n",
    "$\\delta s_{2,k} = s_{2,k+1}-s_{2,k}$. \n",
    "<br>\n",
    "<br>\n",
    "Then we can write the k-th iteration as:\n",
    "<br>\n",
    "$$\\left[\\begin{array}{cccccc}\n",
    "    0 & 0 &     0     &     0     & -1  &  0  \\\\\n",
    "    0 & 0 &     0     &     0     &  0  & -1  \\\\\n",
    "    1 & 0 &    -1     &     0     &  0  &  0  \\\\\n",
    "    0 & 1 &     0     &     0     & -1  &  0  \\\\\n",
    "    0 & 0 & \\lambda_1 &     0     & s_1 &  0  \\\\\n",
    "    0 & 0 &     0     & \\lambda_2 &  0  & s_2\n",
    "\\end{array}\\right]\n",
    "\\cdot \\left[\\begin{array}{c}\n",
    "\\delta x_{1,k}\\\\\n",
    "\\delta x_{2,k}\\\\\n",
    "\\delta s_{1,k}\\\\\n",
    "\\delta s_{2,k}\\\\\n",
    "\\delta \\lambda_{1,k}\\\\\n",
    "\\delta \\lambda_{2,k}\\\\\n",
    "\\end{array}\\right] =\n",
    "- \\left[\\begin{array}{c}\n",
    "1-\\lambda_1\\\\\n",
    "1-\\lambda_2\\\\\n",
    "x_1 + 1 - s_1\\\\\n",
    "x_2 + 1 - s_2\\\\\n",
    "\\lambda_1 s_1\\\\\n",
    "\\lambda_2 s_2\\\\\n",
    "\\end{array}\\right]\n",
    "+ \\left[\\begin{array}{c}\n",
    "0\\\\\n",
    "0\\\\\n",
    "0\\\\\n",
    "0\\\\\n",
    "\\tau\\\\\n",
    "\\tau\\\\\n",
    "\\end{array}\\right]$$\n",
    "<br>\n",
    "Note, that this is always a system of linear equations, even though the original function $f$ is nonlinear.    \n",
    "</details>"
   ]
  },
  {
   "cell_type": "markdown",
   "metadata": {},
   "source": [
    "We will solve this system using Python below."
   ]
  },
  {
   "cell_type": "code",
   "execution_count": 2,
   "metadata": {},
   "outputs": [],
   "source": [
    "import autograd\n",
    "import autograd.numpy as np\n",
    "\n",
    "# RHS of KKT system\n",
    "def F(Z, tau):\n",
    "    x1 = Z[0]\n",
    "    x2 = Z[1]\n",
    "    s1 = Z[2]\n",
    "    s2 = Z[3]\n",
    "    l1 = Z[4]\n",
    "    l2 = Z[5]\n",
    "    F = np.array([1-l1,\n",
    "         1-l2,\n",
    "         x1+1-s1,\n",
    "         x2+1-s2,\n",
    "         l1*s1 - tau,\n",
    "         l2*s2 - tau])\n",
    "    return F"
   ]
  },
  {
   "cell_type": "markdown",
   "metadata": {},
   "source": [
    "Typically, it is very difficult to find a strictly feasible initial point. Here, we are able to pick a random point because the problem is very small."
   ]
  },
  {
   "cell_type": "code",
   "execution_count": 3,
   "metadata": {},
   "outputs": [],
   "source": [
    " def solve(tau):\n",
    "\n",
    "    # initial point for original problem\n",
    "    Z = np.ones(6)\n",
    "    \n",
    "    # initial guess for Newton's method\n",
    "    deltaZ = np.ones(6)\n",
    "    \n",
    "    # convergence tolerance\n",
    "    tol = 1e-5\n",
    "    \n",
    "    # f_prime\n",
    "    jac = autograd.jacobian(F, 0)\n",
    "    \n",
    "    it=0\n",
    "    # KKT conditions are a set of nonlinear equations we need to solve\n",
    "    # F(x, slack, lambda) = 0 (for exact KKT)\n",
    "    # Apply Newton's method to iterate to the solution. \n",
    "    # F(Z0) + Jacobian(Z0) * deltaZ = 0\n",
    "    while np.linalg.norm(deltaZ) > tol:\n",
    "        it=it+1\n",
    "        \n",
    "        f_prime = jac(Z,tau)\n",
    "        f = F(Z,tau)\n",
    "\n",
    "        # solve linear equation system\n",
    "        deltaZ = np.linalg.solve(f_prime, -f)\n",
    "\n",
    "        Z = Z + deltaZ\n",
    "        \n",
    "    return Z, it"
   ]
  },
  {
   "cell_type": "code",
   "execution_count": 4,
   "metadata": {
    "scrolled": false
   },
   "outputs": [
    {
     "name": "stdout",
     "output_type": "stream",
     "text": [
      "tau        minimum                 iter   \n",
      "1.0        [ 0.0000 ,  0.0000 ]      2                   \n",
      "0.5        [-0.5000 , -0.5000 ]      2                   \n",
      "0.25       [-0.7500 , -0.7500 ]      2                   \n",
      "0.125      [-0.8750 , -0.8750 ]      2                   \n",
      "0.01       [-0.9900 , -0.9900 ]      2                   \n",
      "0.001      [-0.9990 , -0.9990 ]      2                   \n",
      "1e-05      [-1.0000 , -1.0000 ]      2                   \n"
     ]
    }
   ],
   "source": [
    "# loop for different values of tau\n",
    "tau = [1.0, 0.5, 0.25, 0.125, 1e-2, 1e-3, 1e-5]\n",
    "print(\"{:<10} {:<20} {:^10}\".format('tau','minimum','iter'))\n",
    "for itau in tau:\n",
    "    Zopt, it = solve(itau)\n",
    "    print (\"{:<10} [{:^8.4f}, {:^8.4f}] {:<4} {:<20d}\".format(itau,Zopt[0],Zopt[1],' ',it))"
   ]
  },
  {
   "cell_type": "code",
   "execution_count": null,
   "metadata": {},
   "outputs": [],
   "source": []
  }
 ],
 "metadata": {
  "kernelspec": {
   "display_name": "Python 3",
   "language": "python",
   "name": "python3"
  },
  "language_info": {
   "codemirror_mode": {
    "name": "ipython",
    "version": 3
   },
   "file_extension": ".py",
   "mimetype": "text/x-python",
   "name": "python",
   "nbconvert_exporter": "python",
   "pygments_lexer": "ipython3",
   "version": "3.6.8"
  }
 },
 "nbformat": 4,
 "nbformat_minor": 4
}
